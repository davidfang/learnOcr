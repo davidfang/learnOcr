{
 "cells": [
  {
   "cell_type": "code",
   "execution_count": 2,
   "metadata": {},
   "outputs": [],
   "source": [
    "from PIL import Image\n",
    "import cv2\n",
    "from matplotlib import pyplot as plt\n",
    "import numpy as np\n",
    "\n",
    "import pytesseract as tess"
   ]
  },
  {
   "cell_type": "code",
   "execution_count": 3,
   "metadata": {},
   "outputs": [
    {
     "name": "stdout",
     "output_type": "stream",
     "text": [
      "OpenCV研习社\n",
      "\n",
      "OPENCV4与计算机视觉知识点分享，\n",
      "C++与Python双语教学! 随到随学! 基于\n",
      "最新版本OPENCV! 包含OPENCV深度学习\n",
      "模块! 完整140课时系统化学习，零基础\n",
      "开始，掌握一门技术，认识一群朋友! 还\n",
      "可以向星主提问答疑，各种案例代码分享\n",
      "与知识讲座! 送400篇计算机视觉与深度\n",
      "学习相关论文资料! 现在加入即可查看学\n",
      "习路线图! 开始学习!\n",
      "\f\n"
     ]
    }
   ],
   "source": [
    "image = cv2.imread(\"./images/yanxishe.png\")\n",
    "image_rgb = cv2.cvtColor(image, cv2.COLOR_BGR2RGB)\n",
    "text = tess.image_to_string(image_rgb, lang=\"chi_sim\")\n",
    "print(text)\n",
    "h, w, c = image.shape\n",
    "boxes = tess.image_to_boxes(image)\n",
    "for b in boxes.splitlines():\n",
    "    b = b.split(' ')\n",
    "    image = cv2.rectangle(image, (int(b[1]), h - int(b[2])), (int(b[3]), h - int(b[4])), (0, 255, 0), 2)\n",
    "\n",
    "# cv2.imshow('text detect', image)\n",
    "# cv2.waitKey(0)\n",
    "# cv2.destroyAllWindows()"
   ]
  },
  {
   "cell_type": "code",
   "execution_count": 4,
   "metadata": {},
   "outputs": [
    {
     "name": "stdout",
     "output_type": "stream",
     "text": [
      "dict_keys(['level', 'page_num', 'block_num', 'par_num', 'line_num', 'word_num', 'left', 'top', 'width', 'height', 'conf', 'text'])\n",
      "[-1, -1, -1, -1, 95, 95, 95, 94, -1, -1, 96, 96, 85, 0, 17, 53, 0, 42, 0, 0, 76, 93, 92, 93, 92, 93, 76, 93, 92, 96, 93, 0, 0, 93, 91, -1, 91, 93, 93, 93, 92, 92, 39, 33, 88, 93, 96, 15, 93, 92, 91, 92, 93, 85, 93, 93, 93, 90, 96, 93, 93, 65, 65, -1, 91, 53, 89, 93, 91, 41, 92, 92, 95, 90, 90, 93, 93, 93, 93, 92, 92, 96, 93, 91, 96, 96, 94, 85, 85, 93, 92, 95, -1, 92, 86, 30, 89, 93, 92, 96, 85, 93, 68, 74, 96, 93, 96, 95, 95, 93, 67, 92, 96, 93, 96, 92, 93, 96, 93, 75, -1, 89, 96, 96, 96, 93, 92, 96, 96, 96, 96, 96, 96, 97, 94, 96, 96, 96, 93, 96, 96, 96, -1, 96, 95, 96, 96, 96, 96, 95, 96, 96, 96, 95, 96, 95, 92, 93, 92, 93, 93, 92, 93, 96, 96, 93, 92, -1, 93, 33, 91, 93, 96, 93, 96, 96, 86, 86, 92, 96, 58, 96, 95, 96, 96, 96, 95, 96, 96, 96, 96, 92, 91, -1, 96, 91, 93, 94, 96, 97, 96, 96, 96, 93, 92, 91, -1, -1, 95, 95, 90, 94, 95, 93, 92, 91, 93, 96, 96, 96, 96, 91, 91, 92, 96, 96, 96, 82, 82, 63, 58, -1, 96, 96, 96, 95, 96, 96, 96, 82, 96, 96, 85, 85, 93, 96, 96, 95, 96, 92, 92, 96, 95, 96, 96, 93, 93, 86, 85, -1, 96, 97, 96, 96, 90, 90, 96, 96, 95, 96, 93, 82, 84, 96, 92, 93, 96, 96, 95, 86, 96, 96, 96, 96, 96, -1, 93, 92, 89, 92, 96, 95, 96, 96, 96, 96, 96, 93, 96, 96, 96, 91, 92, -1, -1, 94, 96, 96, 96, 77, 77, 96, 95, 95, 95, 93, 57, 81, 96, 89, 93, 96, 96, 96, 96, 96, 96, 93, 86, -1, 96, 95, 95, 96, 96, 96, 96, 94, 96, 96, 97, 95, 96, 96, 96, 95, 87, 95, 96, 92, 92, -1, 90, 93, 92, 92, 93, 96, 96, 96, 92, 80, 93, 92, 93, 93, 89, 96, 96, 94, 96, 93, 93, 91, 92, -1, -1, 95, 95, 90, 96, 96, 93, 89, 95, 96, 95, 93, 87, 61, 93, 93, 96, 96, 93, 96, 96, 96, 96, 96, 93, 72, 92, -1, 57, 93, 93, 91, 92, 93, 92, 92, 91, 93, 93, 92, 92, 92, 83, 93, 95, 92, -1, -1, 96, 96, 92, 96, 94, 96, 96, 71, 96, 95, 96, 96, 96, 92, 93, 61, 64, 96, 93, 93, 96, 96, 95, 96, 96, -1, 96, 93, 93, 93, 92, 93, 93, 93, 93, 93, 93, 89, 96, 96, 96, 96, 96, 96, 92, 90, 92, 93, 79, 96, 96, 96, 96, 90, 92, -1, 91, 93, 96, 96, 96, 46, 87, 88, 93, 95, 95, 96, 96, 96, 96, 88, 89, 92, 92, 82, 92, 91, 94, 96, 95, 92, 89, 91, -1, 96, 94, 96, 93, 92, 91, 74, 88, 94, 96, 96, 96, 95, 96, 96, 92, 92, 93, 96, 96, 96, 96, 96, 96, 96, 96, 94, -1, 96, 96, 96, 96, 96, 92, 93, 82, 96, 96, 96, 85, 74, 74, 88, 93, 38, 93, 97, 96, 95, 96, 96, 96, 96, 93, 91, -1, 93, 92, 93, 96, 96, 96, 93, 93, 82, 92, 93, 96, 94, 93, 92, 93, 93, 96, 96, 96, 93, 90, 96, 96, 96, 96, 91, 91, -1, -1, 95, 96, 96, 95, 96, 96, 95, 93, 96, 96, 93, 85, 90, 90, 93, 96, 96, 96, 96, 93, 90, 89, 96, -1, 82, 87, 85, 93, 96, 92, 83, 93, 90, 92, 97, 96, 96, 95, 96, 89, 92, 96, 87, 90, 93, 96, 96, 95, 96, 96, -1, 96, 95, 93, 91, 92, 96, 96, 96, 96, 96, 93, 83, 96, 96, 96, 96, 96, 81, 96, 93, 93, 96, 96, 93, 96, 90, 88, -1, -1, 95, 96, 92, 96, 93, 84, 95, 95, 96, 96, 96, 96, 96, 96, 96, 93, 76, 85, 92, 93, 95, 95, 96, 96, -1, 83, 96, 95, 96, 96, 96, 93, 92, 92, 96, 96, 77, 96, 92, 92, -1, -1, 96, 96, 67, 0, -1, 69, 0, 40, -1, 73, 0, -1, 96, 94, 92, 77, 92, 91, 92, 47, 47, 91]\n"
     ]
    }
   ],
   "source": [
    "image = cv2.imread(\"./images/5.jpg\")\n",
    "h, w, c = image.shape\n",
    "\n",
    "# 文档结构分析\n",
    "config = ('-l chi_sim --oem 1 --psm 6')\n",
    "dict = tess.image_to_data(image, config=config, output_type=tess.Output.DICT)\n",
    "print(dict.keys())\n",
    "print(dict['conf'])\n",
    "n_boxes = len(dict['text'])"
   ]
  },
  {
   "cell_type": "code",
   "execution_count": 5,
   "metadata": {},
   "outputs": [
    {
     "data": {
      "text/plain": [
       "True"
      ]
     },
     "execution_count": 5,
     "metadata": {},
     "output_type": "execute_result"
    }
   ],
   "source": [
    "# 全部文档结构\n",
    "text_img = np.copy(image)\n",
    "for i in range(n_boxes):\n",
    "    (x, y, w, h) = (dict['left'][i], dict['top'][i], dict['width'][i], dict['height'][i])\n",
    "    cv2.rectangle(text_img, (x, y), (x + w, y + h), (0, 255, 0), 2)\n",
    "cv2.imwrite('./images/5-layout-text1.png', text_img)"
   ]
  },
  {
   "cell_type": "code",
   "execution_count": 7,
   "metadata": {},
   "outputs": [
    {
     "name": "stdout",
     "output_type": "stream",
     "text": [
      "梦无矶 二可宇 骆自\n",
      "\n",
      "132,866 总访问量 ”58 原创 22,079排名 。 1275办丝 地119铁前。 @学习成就\n",
      "个人简介: 从自动化测试进阶到测试开发的一枚小茸新，喜好记录自己的知识，嘿嘿~\n",
      "\n",
      "IP 属地: 上海市\n",
      "\n",
      "查看详细资料”\n",
      "\f\n"
     ]
    }
   ],
   "source": [
    "im = Image.open('./images/6.png')\n",
    "\n",
    "# 识别文字，并指定语言\n",
    "string = tess.image_to_string(im, lang='chi_sim')\n",
    "print(string)"
   ]
  }
 ],
 "metadata": {
  "kernelspec": {
   "display_name": "base",
   "language": "python",
   "name": "python3"
  },
  "language_info": {
   "codemirror_mode": {
    "name": "ipython",
    "version": 3
   },
   "file_extension": ".py",
   "mimetype": "text/x-python",
   "name": "python",
   "nbconvert_exporter": "python",
   "pygments_lexer": "ipython3",
   "version": "3.12.4"
  }
 },
 "nbformat": 4,
 "nbformat_minor": 2
}
